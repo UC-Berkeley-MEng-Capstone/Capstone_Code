{
 "cells": [
  {
   "cell_type": "code",
   "execution_count": 163,
   "metadata": {},
   "outputs": [
    {
     "name": "stdout",
     "output_type": "stream",
     "text": [
      "[18] [22]\n"
     ]
    }
   ],
   "source": [
    "import sqlite3\n",
    "from pandas.io.sql import read_sql\n",
    "from sqlalchemy import create_engine\n",
    "import math\n",
    "import matplotlib.pyplot as plt\n",
    "import numpy as np\n",
    "import pandas as pd\n",
    "#Get files from directory:\n",
    "import os\n",
    "import timeit\n",
    "#=============================================================\n",
    "## -------- ADD PATH TO THE SQLITE FILE!!! ------------------\n",
    "path = 'C:\\\\Users\\\\admin\\\\Desktop\\\\Capstone\\\\Final SQL\\\\SQL\\\\'\n",
    "\n",
    "#for loop to go over all the databases\n",
    "for filename in os.listdir(path):\n",
    "    #=============================================================\n",
    "    ## COMMENT TO PROCESS ALL THE DATABASES\n",
    "    if filename=='clip_11.sqlite':\n",
    "    #=============================================================\n",
    "        con = sqlite3.connect(path+filename)\n",
    "        \n",
    "        #Defining The number of objects we have\n",
    "        sql_command = \"SELECT COUNT(*) FROM objects\"\n",
    "\n",
    "        max_objects_sql = con.execute(sql_command)\n",
    "        max_objects = max_objects_sql.fetchone()\n",
    "        max_objects=max_objects[0]\n",
    "\n",
    "        ## Using the SQL command\n",
    "        # Getting the positions of every object\n",
    "        df_positions = pd.read_sql_query(\"SELECT a.object_id,  b.frame_number, x_coordinate, y_coordinate\\\n",
    "        FROM objects_features AS a \\\n",
    "        JOIN positions AS b ON a.trajectory_id = b.trajectory_id\",con)\n",
    "\n",
    "        # Getting the velocities of every object\n",
    "        df_velocities = pd.read_sql_query(\"SELECT a.object_id,  b.frame_number, b.x_coordinate, b.y_coordinate\\\n",
    "        FROM objects_features AS a \\\n",
    "        JOIN velocities AS b ON a.trajectory_id = b.trajectory_id\",con)\n",
    "\n",
    "\n",
    "        # Merging the velocities and positions\n",
    "        df = pd.DataFrame()\n",
    "\n",
    "        df=df_positions.copy()\n",
    "        df['v_x']=df_velocities['x_coordinate']\n",
    "        df['v_y']=df_velocities['y_coordinate']\n",
    "        df.columns = ['object', 'frame', 'x', 'y', 'v_x', 'v_y']\n",
    "        \n",
    "        \n",
    "        #=============================================================\n",
    "        # UNCOMMENT IF YOU WOULD LIKE TO COMPUTE THE AVERAGE OVER THE TRAJECTORIES\n",
    "                \n",
    "        #df=df.groupby(['object','frame']).mean().reset_index()\n",
    "        \n",
    "        #=============================================================\n",
    "\n",
    "        \n",
    "        #=============================================================\n",
    "        ## UNCOMMENT TO PLOT\n",
    "        for i in range(max_objects):\n",
    "            \n",
    "            X0=pd.Series.tolist((df.loc[df['object'] == i])['x'])\n",
    "            Y0=pd.Series.tolist((df.loc[df['object'] == i])['y'])\n",
    "            plt.scatter(X0,Y0)\n",
    "            plt.xlabel(\"X positions\")\n",
    "            plt.ylabel(\"Y positions\")\n",
    "            plt.title(\"Trajectories of moving objects of\"+ filename)\n",
    "        #plt.show()\n",
    "        #=============================================================\n",
    "        \n",
    "        ## --------------- Classification  --------------------------\n",
    "                \n",
    "        veh_id,ped_id=classify(max_objects,df_positions)\n",
    "        \n",
    "        \n",
    "        #=============================================================\n",
    "        ## UNCOMMENT TO SEE THE VEHICLES AND PEDESTRIANS ID\n",
    "        \n",
    "        print veh_id,ped_id\n",
    "        \n",
    "        #============================================================= \n",
    "        \n",
    "        #pairing = {'veh_id': veh_id, 'ped_id': ped_id}\n",
    "        #df_pairing = pd.DataFrame(data=pairing)\n",
    "        #df_pairing.to_pickle('obj_ID')\n",
    "        \n"
   ]
  },
  {
   "cell_type": "code",
   "execution_count": 156,
   "metadata": {},
   "outputs": [
    {
     "name": "stdout",
     "output_type": "stream",
     "text": [
      "[] [29, 30, 36]\n"
     ]
    }
   ],
   "source": [
    "def classify(max_objects, df_positions):\n",
    "    veh_id=[]\n",
    "    ped_id=[]\n",
    "    for i in range(max_objects):\n",
    "        temp=df_positions.loc[df_positions['object_id'] == i].reset_index(drop=True)\n",
    "        \n",
    "\n",
    "        x_diff = (temp['x_coordinate'][temp.shape[0]-1]-temp['x_coordinate'][0])\n",
    "        y_diff = (temp['y_coordinate'][temp.shape[0]-1]-temp['y_coordinate'][0])\n",
    "\n",
    "    #If you want to print the differences for every object, uncomment the two lines below    \n",
    "    # =============================================================================\n",
    "    #     print('Diff in X for '+ str(i) + ' is ' +str(x_diff))\n",
    "    #     print('Diff in Y for '+ str(i) + ' is ' +str(y_diff))\n",
    "    #     print('\\n\\n')\n",
    "    # =============================================================================\n",
    "\n",
    "\n",
    "        if abs(x_diff) > 13:\n",
    "            veh_id.append(i)\n",
    "        elif abs(y_diff) > 2:\n",
    "            ped_id.append(i)\n",
    "        \n",
    "    return veh_id, ped_id\n",
    "\n",
    "x,y=classify(max_objects, df_positions)\n",
    "print x,y"
   ]
  },
  {
   "cell_type": "code",
   "execution_count": 70,
   "metadata": {},
   "outputs": [
    {
     "data": {
      "image/png": "[encoded data removed]",
      "text/plain": [
       "<matplotlib.figure.Figure at 0x10075a58>"
      ]
     },
     "metadata": {},
     "output_type": "display_data"
    }
   ],
   "source": [
    "for i in veh_id:\n",
    "    X0=pd.Series.tolist((df.loc[df['object'] == i])['x'])\n",
    "    Y0=pd.Series.tolist((df.loc[df['object'] == i])['y'])\n",
    "    plt.scatter(X0,Y0)\n",
    "    plt.xlabel(\"X positions\")\n",
    "    plt.ylabel(\"Y positions\")\n",
    "    plt.title(\"Trajectories of moving objects of\"+ filename)\n",
    "for i in ped_id:\n",
    "    X0=pd.Series.tolist((df.loc[df['object'] == i])['x'])\n",
    "    Y0=pd.Series.tolist((df.loc[df['object'] == i])['y'])\n",
    "    plt.scatter(X0,Y0)\n",
    "    plt.xlabel(\"X positions\")\n",
    "    plt.ylabel(\"Y positions\")\n",
    "    plt.title(\"Trajectories of moving objects of\"+ filename)\n",
    "plt.show()\n"
   ]
  },
  {
   "cell_type": "code",
   "execution_count": 74,
   "metadata": {},
   "outputs": [
    {
     "name": "stdout",
     "output_type": "stream",
     "text": [
      "ped 10\n",
      "veh 11\n"
     ]
    },
    {
     "data": {
      "image/png": "[encoded data removed]",
      "text/plain": [
       "<matplotlib.figure.Figure at 0x176b8d68>"
      ]
     },
     "metadata": {},
     "output_type": "display_data"
    },
    {
     "name": "stdout",
     "output_type": "stream",
     "text": [
      "ped 15\n",
      "veh 11\n"
     ]
    },
    {
     "data": {
      "image/png": "[encoded data removed]",
      "text/plain": [
       "<matplotlib.figure.Figure at 0xe355400>"
      ]
     },
     "metadata": {},
     "output_type": "display_data"
    },
    {
     "name": "stdout",
     "output_type": "stream",
     "text": [
      "ped 10\n",
      "veh 17\n"
     ]
    },
    {
     "data": {
      "image/png": "[encoded data removed]",
      "text/plain": [
       "<matplotlib.figure.Figure at 0x10ac3978>"
      ]
     },
     "metadata": {},
     "output_type": "display_data"
    },
    {
     "name": "stdout",
     "output_type": "stream",
     "text": [
      "ped 15\n",
      "veh 17\n"
     ]
    },
    {
     "data": {
      "image/png": "[encoded data removed]",
      "text/plain": [
       "<matplotlib.figure.Figure at 0xd0f1b38>"
      ]
     },
     "metadata": {},
     "output_type": "display_data"
    }
   ],
   "source": [
    "for i in veh_id:\n",
    "    for j in ped_id:\n",
    "        print 'ped', j\n",
    "        print 'veh', i\n",
    "        #We extract the ped and veh\n",
    "        veh=df.loc[df['object'] == j]\n",
    "        ped=df.loc[df['object'] == i]\n",
    "        #print veh\n",
    "        #print ped\n",
    "\n",
    "\n",
    "        ## Left as the how because we take the pedestrian as a base\n",
    "        interaction=pd.merge(veh, ped, how='left', on=['frame'])\n",
    "        interaction.columns = ['object1', 'frame', 'x1', 'y1', 'v_x1', 'v_y1','object2', 'x2', 'y2', 'v_x2', 'v_y2']\n",
    "        #print interaction\n",
    "\n",
    "        #We get the interaction ! Let's plot it now\n",
    "        X=pd.Series.tolist((interaction)['x1'])\n",
    "        Y=pd.Series.tolist((interaction)['y1'])\n",
    "        X2=pd.Series.tolist((interaction)['x2'])\n",
    "        Y2=pd.Series.tolist((interaction)['y2'])\n",
    "        plt.scatter(X,Y)\n",
    "        plt.scatter(X2,Y2)\n",
    "        plt.show()\n"
   ]
  },
  {
   "cell_type": "code",
   "execution_count": null,
   "metadata": {
    "collapsed": true
   },
   "outputs": [],
   "source": []
  },
  {
   "cell_type": "code",
   "execution_count": null,
   "metadata": {
    "collapsed": true
   },
   "outputs": [],
   "source": []
  }
 ],
 "metadata": {
  "kernelspec": {
   "display_name": "Python 2",
   "language": "python",
   "name": "python2"
  },
  "language_info": {
   "codemirror_mode": {
    "name": "ipython",
    "version": 2
   },
   "file_extension": ".py",
   "mimetype": "text/x-python",
   "name": "python",
   "nbconvert_exporter": "python",
   "pygments_lexer": "ipython2",
   "version": "2.7.14"
  }
 },
 "nbformat": 4,
 "nbformat_minor": 2
}
