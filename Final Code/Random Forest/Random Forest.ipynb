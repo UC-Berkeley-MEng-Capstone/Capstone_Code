{
 "cells": [
  {
   "cell_type": "markdown",
   "metadata": {},
   "source": [
    "## Importing and Cleaning"
   ]
  },
  {
   "cell_type": "markdown",
   "metadata": {},
   "source": [
    "#### Running all the videos - classifying objects - and pickle object_id of vehicles and pedestrains"
   ]
  },
  {
   "cell_type": "code",
   "execution_count": 155,
   "metadata": {},
   "outputs": [],
   "source": [
    "import pandas as pd\n",
    "import sqlite3\n",
    "from pandas.io.sql import read_sql\n",
    "from sqlalchemy import create_engine\n",
    "import math\n",
    "import matplotlib.pyplot as plt\n",
    "import numpy as np\n",
    "import pandas as pd\n",
    "#Get files from directory:\n",
    "import os\n",
    "import timeit\n",
    "\n",
    "#Data Manipulation\n",
    "import pandas as pd\n",
    "import numpy as np\n",
    "import os\n",
    "from imblearn.over_sampling import SMOTE\n",
    "# import dill as pickle\n",
    "import statsmodels.api as sm\n",
    "\n",
    "#Visualization\n",
    "import matplotlib.pyplot as plt\n",
    "%matplotlib inline\n",
    "import seaborn as sns\n",
    "import math\n",
    "\n",
    "#Warnings\n",
    "import warnings\n",
    "warnings.filterwarnings(\"ignore\")\n",
    "\n",
    "#Machine Learning\n",
    "from sklearn.pipeline import make_pipeline\n",
    "from sklearn.pipeline import Pipeline\n",
    "from sklearn.model_selection import train_test_split, GridSearchCV\n",
    "from sklearn.ensemble import RandomForestClassifier\n",
    "from sklearn import metrics"
   ]
  },
  {
   "cell_type": "code",
   "execution_count": 33,
   "metadata": {},
   "outputs": [],
   "source": [
    "def classify(max_objects, df_positions):\n",
    "    veh_id=[]\n",
    "    ped_id=[]\n",
    "    for i in range(max_objects):\n",
    "        temp=df_positions.loc[df_positions['object_id'] == i].reset_index(drop=True)\n",
    "        \n",
    "\n",
    "        x_diff = (temp['x_coordinate'][temp.shape[0]-1]-temp['x_coordinate'][0])\n",
    "        y_diff = (temp['y_coordinate'][temp.shape[0]-1]-temp['y_coordinate'][0])\n",
    "\n",
    "    #If you want to print the differences for every object, uncomment the two lines below    \n",
    "    # =============================================================================\n",
    "    #     print('Diff in X for '+ str(i) + ' is ' +str(x_diff))\n",
    "    #     print('Diff in Y for '+ str(i) + ' is ' +str(y_diff))\n",
    "    #     print('\\n\\n')\n",
    "    # =============================================================================\n",
    "\n",
    "\n",
    "        if abs(x_diff) > 15:\n",
    "            veh_id.append(i)\n",
    "        elif abs(y_diff) > 2:\n",
    "            ped_id.append(i)\n",
    "        \n",
    "    return veh_id, ped_id\n",
    "\n",
    "#x,y=classify(max_objects, df_positions)\n",
    "#print x,y"
   ]
  },
  {
   "cell_type": "code",
   "execution_count": 108,
   "metadata": {},
   "outputs": [],
   "source": [
    "def SQL_to_Pandas(filename):\n",
    "    #=============================================================\n",
    "    ## COMMENT TO PROCESS ALL THE DATABASES\n",
    "    #=============================================================\n",
    "    delta_t=1/30\n",
    "    con = sqlite3.connect(path+filename)\n",
    "\n",
    "    #Defining The number of objects we have\n",
    "    sql_command = \"SELECT COUNT(*) FROM objects\"\n",
    "\n",
    "    max_objects_sql = con.execute(sql_command)\n",
    "    max_objects = max_objects_sql.fetchone()\n",
    "    max_objects=max_objects[0]\n",
    "\n",
    "    ## Using the SQL command\n",
    "    # Getting the positions of every object\n",
    "    df_positions = pd.read_sql_query(\"SELECT a.object_id,  b.frame_number, x_coordinate, y_coordinate\\\n",
    "    FROM objects_features AS a \\\n",
    "    JOIN positions AS b ON a.trajectory_id = b.trajectory_id\",con)\n",
    "\n",
    "    # Getting the velocities of every object\n",
    "    df_velocities = pd.read_sql_query(\"SELECT a.object_id,  b.frame_number, b.x_coordinate, b.y_coordinate\\\n",
    "    FROM objects_features AS a \\\n",
    "    JOIN velocities AS b ON a.trajectory_id = b.trajectory_id\",con)\n",
    "\n",
    "\n",
    "    # Merging the velocities and positions\n",
    "    df = pd.DataFrame()\n",
    "\n",
    "    df=df_positions.copy()  \n",
    "    df.columns = ['object', 'frame', 'x', 'y']\n",
    "\n",
    "    #Compute the velocities:\n",
    "    \n",
    "#     df['v_x']=(df['x'].shift(1)-df['x'].shift(-1))/(2*delta_t)\n",
    "#     df['v_y']=(df['y'].shift(1)-df['y'].shift(-1))/(2*delta_t)\n",
    "#     interaction=interaction[:-1]\n",
    "\n",
    "    #=============================================================\n",
    "    \n",
    "    # UNCOMMENT IF YOU WOULD LIKE TO COMPUTE THE AVERAGE OVER THE TRAJECTORIES\n",
    "\n",
    "    df=df.groupby(['object','frame']).mean().reset_index()\n",
    "    #Dropping elements with nan\n",
    "    df=df.dropna(axis=0, how='any')\n",
    "    \n",
    "#     df['v_x_test']= abs(df['x'].shift(-1)-df['x'])/delta_t\n",
    "#     df['v_y_test']= abs(df['y'].shift(-1)-df['y'])/delta_t\n",
    "    \n",
    "    return df,max_objects"
   ]
  },
  {
   "cell_type": "markdown",
   "metadata": {},
   "source": [
    "## Pairing output"
   ]
  },
  {
   "cell_type": "code",
   "execution_count": 109,
   "metadata": {},
   "outputs": [],
   "source": [
    "path = '/Users/mubarak/Downloads/Capstone_Code-master 2/SQL/2/'\n",
    "[df,max_objects] = SQL_to_Pandas('clip_10.sqlite')"
   ]
  },
  {
   "cell_type": "code",
   "execution_count": 110,
   "metadata": {},
   "outputs": [
    {
     "data": {
      "text/html": [
       "<div>\n",
       "<style scoped>\n",
       "    .dataframe tbody tr th:only-of-type {\n",
       "        vertical-align: middle;\n",
       "    }\n",
       "\n",
       "    .dataframe tbody tr th {\n",
       "        vertical-align: top;\n",
       "    }\n",
       "\n",
       "    .dataframe thead th {\n",
       "        text-align: right;\n",
       "    }\n",
       "</style>\n",
       "<table border=\"1\" class=\"dataframe\">\n",
       "  <thead>\n",
       "    <tr style=\"text-align: right;\">\n",
       "      <th></th>\n",
       "      <th>object</th>\n",
       "      <th>frame</th>\n",
       "      <th>x</th>\n",
       "      <th>y</th>\n",
       "    </tr>\n",
       "  </thead>\n",
       "  <tbody>\n",
       "    <tr>\n",
       "      <th>0</th>\n",
       "      <td>0</td>\n",
       "      <td>0</td>\n",
       "      <td>1.753980</td>\n",
       "      <td>1.430474</td>\n",
       "    </tr>\n",
       "    <tr>\n",
       "      <th>1</th>\n",
       "      <td>0</td>\n",
       "      <td>1</td>\n",
       "      <td>1.383389</td>\n",
       "      <td>1.229433</td>\n",
       "    </tr>\n",
       "    <tr>\n",
       "      <th>2</th>\n",
       "      <td>0</td>\n",
       "      <td>2</td>\n",
       "      <td>1.191444</td>\n",
       "      <td>1.197430</td>\n",
       "    </tr>\n",
       "    <tr>\n",
       "      <th>3</th>\n",
       "      <td>0</td>\n",
       "      <td>3</td>\n",
       "      <td>1.062586</td>\n",
       "      <td>1.183371</td>\n",
       "    </tr>\n",
       "    <tr>\n",
       "      <th>4</th>\n",
       "      <td>0</td>\n",
       "      <td>4</td>\n",
       "      <td>0.931671</td>\n",
       "      <td>1.168614</td>\n",
       "    </tr>\n",
       "  </tbody>\n",
       "</table>\n",
       "</div>"
      ],
      "text/plain": [
       "   object  frame         x         y\n",
       "0       0      0  1.753980  1.430474\n",
       "1       0      1  1.383389  1.229433\n",
       "2       0      2  1.191444  1.197430\n",
       "3       0      3  1.062586  1.183371\n",
       "4       0      4  0.931671  1.168614"
      ]
     },
     "execution_count": 110,
     "metadata": {},
     "output_type": "execute_result"
    }
   ],
   "source": [
    "df.head()"
   ]
  },
  {
   "cell_type": "code",
   "execution_count": 102,
   "metadata": {},
   "outputs": [],
   "source": [
    "df['v_x']= abs(df['x'].shift(-1)-df['x'])/delta_t\n",
    "df['v_y']= abs(df['y'].shift(-1)-df['y'])/delta_t"
   ]
  },
  {
   "cell_type": "code",
   "execution_count": 103,
   "metadata": {},
   "outputs": [
    {
     "data": {
      "text/html": [
       "<div>\n",
       "<style scoped>\n",
       "    .dataframe tbody tr th:only-of-type {\n",
       "        vertical-align: middle;\n",
       "    }\n",
       "\n",
       "    .dataframe tbody tr th {\n",
       "        vertical-align: top;\n",
       "    }\n",
       "\n",
       "    .dataframe thead th {\n",
       "        text-align: right;\n",
       "    }\n",
       "</style>\n",
       "<table border=\"1\" class=\"dataframe\">\n",
       "  <thead>\n",
       "    <tr style=\"text-align: right;\">\n",
       "      <th></th>\n",
       "      <th>object</th>\n",
       "      <th>frame</th>\n",
       "      <th>x</th>\n",
       "      <th>y</th>\n",
       "      <th>v_x_test</th>\n",
       "      <th>v_y_test</th>\n",
       "    </tr>\n",
       "  </thead>\n",
       "  <tbody>\n",
       "    <tr>\n",
       "      <th>0</th>\n",
       "      <td>0</td>\n",
       "      <td>0</td>\n",
       "      <td>1.753980</td>\n",
       "      <td>1.430474</td>\n",
       "      <td>11.117729</td>\n",
       "      <td>6.031238</td>\n",
       "    </tr>\n",
       "    <tr>\n",
       "      <th>1</th>\n",
       "      <td>0</td>\n",
       "      <td>1</td>\n",
       "      <td>1.383389</td>\n",
       "      <td>1.229433</td>\n",
       "      <td>5.758372</td>\n",
       "      <td>0.960097</td>\n",
       "    </tr>\n",
       "    <tr>\n",
       "      <th>2</th>\n",
       "      <td>0</td>\n",
       "      <td>2</td>\n",
       "      <td>1.191444</td>\n",
       "      <td>1.197430</td>\n",
       "      <td>3.865715</td>\n",
       "      <td>0.421766</td>\n",
       "    </tr>\n",
       "    <tr>\n",
       "      <th>3</th>\n",
       "      <td>0</td>\n",
       "      <td>3</td>\n",
       "      <td>1.062586</td>\n",
       "      <td>1.183371</td>\n",
       "      <td>3.927471</td>\n",
       "      <td>0.442726</td>\n",
       "    </tr>\n",
       "    <tr>\n",
       "      <th>4</th>\n",
       "      <td>0</td>\n",
       "      <td>4</td>\n",
       "      <td>0.931671</td>\n",
       "      <td>1.168614</td>\n",
       "      <td>3.989509</td>\n",
       "      <td>0.453182</td>\n",
       "    </tr>\n",
       "  </tbody>\n",
       "</table>\n",
       "</div>"
      ],
      "text/plain": [
       "   object  frame         x         y   v_x_test  v_y_test\n",
       "0       0      0  1.753980  1.430474  11.117729  6.031238\n",
       "1       0      1  1.383389  1.229433   5.758372  0.960097\n",
       "2       0      2  1.191444  1.197430   3.865715  0.421766\n",
       "3       0      3  1.062586  1.183371   3.927471  0.442726\n",
       "4       0      4  0.931671  1.168614   3.989509  0.453182"
      ]
     },
     "execution_count": 103,
     "metadata": {},
     "output_type": "execute_result"
    }
   ],
   "source": [
    "df.head()"
   ]
  },
  {
   "cell_type": "code",
   "execution_count": 38,
   "metadata": {},
   "outputs": [
    {
     "name": "stdout",
     "output_type": "stream",
     "text": [
      "/Users/mubarak/Downloads/Capstone_Code-master 2/SQL/2/\n",
      "/Users/mubarak/Downloads/Capstone_Code-master 2/SQL/2\n"
     ]
    }
   ],
   "source": [
    "print('/Users/mubarak/Downloads/Capstone_Code-master 2/SQL/'+str(d)+'/')\n",
    "print('/Users/mubarak/Downloads/Capstone_Code-master 2/SQL/2')"
   ]
  },
  {
   "cell_type": "code",
   "execution_count": 136,
   "metadata": {
    "scrolled": false
   },
   "outputs": [],
   "source": [
    "path_interaction = \"/Users/mubarak/Downloads/Capstone_Code-master 2/SQL/Interactions/\"\n",
    "for x in range(4):\n",
    "    inter = pd.read_csv(path_interaction+str(x)+\".csv\")\n",
    "    inter=inter.drop(['Unnamed: 0'], axis=1)\n",
    "    path = '/Users/mubarak/Downloads/Capstone_Code-master 2/SQL/'+str(x)+'/'\n",
    "    for i in range(len(inter.index)):\n",
    "        [df, max_objects]=SQL_to_Pandas(inter.iloc[i,0]+'.sqlite')\n",
    "        df['v_x']= abs(df['x'].shift(-1)-df['x'])/delta_t\n",
    "        df['v_y']= abs(df['y'].shift(-1)-df['y'])/delta_t\n",
    "        df=df.dropna(axis=0, how='any')\n",
    "\n",
    "        veh_iden=int(inter.iloc[i,2])\n",
    "        ped_iden=int(inter.iloc[i,1])\n",
    "\n",
    "        vehicle=df.loc[df['object'] == veh_iden]    \n",
    "        pedestrian=df.loc[df['object'] == ped_iden]\n",
    "\n",
    "        interaction_file = pd.merge(vehicle, pedestrian, how ='inner', on = ['frame'])\n",
    "        interaction_file.columns = ['object1', 'frame', 'x1', 'y1', 'v_x1', 'v_y1', 'object2', 'x2', 'y2', 'v_x2', 'v_y2']\n",
    "        if i==0:\n",
    "            interactions_day = interaction_file.copy()\n",
    "        else:\n",
    "            frames = [interactions_day, interaction_file]\n",
    "            interactions_day = pd.concat(frames)\n",
    "    if x==0:\n",
    "        all_interactions = interactions_day.copy()\n",
    "    else:\n",
    "        all_interactions = pd.concat([all_interactions, interactions_day])"
   ]
  },
  {
   "cell_type": "code",
   "execution_count": 198,
   "metadata": {},
   "outputs": [
    {
     "data": {
      "text/html": [
       "<div>\n",
       "<style scoped>\n",
       "    .dataframe tbody tr th:only-of-type {\n",
       "        vertical-align: middle;\n",
       "    }\n",
       "\n",
       "    .dataframe tbody tr th {\n",
       "        vertical-align: top;\n",
       "    }\n",
       "\n",
       "    .dataframe thead th {\n",
       "        text-align: right;\n",
       "    }\n",
       "</style>\n",
       "<table border=\"1\" class=\"dataframe\">\n",
       "  <thead>\n",
       "    <tr style=\"text-align: right;\">\n",
       "      <th></th>\n",
       "      <th>object1</th>\n",
       "      <th>frame</th>\n",
       "      <th>x1</th>\n",
       "      <th>y1</th>\n",
       "      <th>v_x1</th>\n",
       "      <th>v_y1</th>\n",
       "      <th>object2</th>\n",
       "      <th>x2</th>\n",
       "      <th>y2</th>\n",
       "      <th>v_x2</th>\n",
       "      <th>v_y2</th>\n",
       "    </tr>\n",
       "  </thead>\n",
       "  <tbody>\n",
       "    <tr>\n",
       "      <th>0</th>\n",
       "      <td>21</td>\n",
       "      <td>220</td>\n",
       "      <td>16.084079</td>\n",
       "      <td>2.468011</td>\n",
       "      <td>1.738851</td>\n",
       "      <td>3.587110</td>\n",
       "      <td>11</td>\n",
       "      <td>13.095978</td>\n",
       "      <td>2.492506</td>\n",
       "      <td>0.049180</td>\n",
       "      <td>0.763525</td>\n",
       "    </tr>\n",
       "    <tr>\n",
       "      <th>1</th>\n",
       "      <td>21</td>\n",
       "      <td>221</td>\n",
       "      <td>16.026117</td>\n",
       "      <td>2.348440</td>\n",
       "      <td>2.814839</td>\n",
       "      <td>5.197024</td>\n",
       "      <td>11</td>\n",
       "      <td>13.094339</td>\n",
       "      <td>2.517957</td>\n",
       "      <td>0.449131</td>\n",
       "      <td>1.815267</td>\n",
       "    </tr>\n",
       "    <tr>\n",
       "      <th>2</th>\n",
       "      <td>21</td>\n",
       "      <td>222</td>\n",
       "      <td>16.119945</td>\n",
       "      <td>2.521674</td>\n",
       "      <td>1.046933</td>\n",
       "      <td>0.493216</td>\n",
       "      <td>11</td>\n",
       "      <td>13.109310</td>\n",
       "      <td>2.578465</td>\n",
       "      <td>0.390401</td>\n",
       "      <td>1.155908</td>\n",
       "    </tr>\n",
       "    <tr>\n",
       "      <th>3</th>\n",
       "      <td>21</td>\n",
       "      <td>223</td>\n",
       "      <td>16.085047</td>\n",
       "      <td>2.505234</td>\n",
       "      <td>1.080118</td>\n",
       "      <td>1.670824</td>\n",
       "      <td>11</td>\n",
       "      <td>13.096296</td>\n",
       "      <td>2.616996</td>\n",
       "      <td>0.041256</td>\n",
       "      <td>0.783199</td>\n",
       "    </tr>\n",
       "    <tr>\n",
       "      <th>4</th>\n",
       "      <td>21</td>\n",
       "      <td>224</td>\n",
       "      <td>16.049043</td>\n",
       "      <td>2.449540</td>\n",
       "      <td>0.624722</td>\n",
       "      <td>0.523641</td>\n",
       "      <td>11</td>\n",
       "      <td>13.094921</td>\n",
       "      <td>2.643102</td>\n",
       "      <td>0.717335</td>\n",
       "      <td>1.483003</td>\n",
       "    </tr>\n",
       "  </tbody>\n",
       "</table>\n",
       "</div>"
      ],
      "text/plain": [
       "   object1  frame         x1        y1      v_x1      v_y1  object2  \\\n",
       "0       21    220  16.084079  2.468011  1.738851  3.587110       11   \n",
       "1       21    221  16.026117  2.348440  2.814839  5.197024       11   \n",
       "2       21    222  16.119945  2.521674  1.046933  0.493216       11   \n",
       "3       21    223  16.085047  2.505234  1.080118  1.670824       11   \n",
       "4       21    224  16.049043  2.449540  0.624722  0.523641       11   \n",
       "\n",
       "          x2        y2      v_x2      v_y2  \n",
       "0  13.095978  2.492506  0.049180  0.763525  \n",
       "1  13.094339  2.517957  0.449131  1.815267  \n",
       "2  13.109310  2.578465  0.390401  1.155908  \n",
       "3  13.096296  2.616996  0.041256  0.783199  \n",
       "4  13.094921  2.643102  0.717335  1.483003  "
      ]
     },
     "execution_count": 198,
     "metadata": {},
     "output_type": "execute_result"
    }
   ],
   "source": [
    "all_interactions.head()"
   ]
  },
  {
   "cell_type": "code",
   "execution_count": 138,
   "metadata": {},
   "outputs": [
    {
     "data": {
      "text/plain": [
       "(8001, 11)"
      ]
     },
     "execution_count": 138,
     "metadata": {},
     "output_type": "execute_result"
    }
   ],
   "source": [
    "all_interactions.shape"
   ]
  },
  {
   "cell_type": "markdown",
   "metadata": {},
   "source": [
    "## Careful, the velocities are off! Better calculate them manually to get real brake/Not brake output"
   ]
  },
  {
   "cell_type": "code",
   "execution_count": 139,
   "metadata": {},
   "outputs": [],
   "source": [
    "# calculate relative \n",
    "MLInput = pd.DataFrame()\n",
    "MLInput['frame'] = all_interactions['frame']\n",
    "MLInput['relative_X'] = all_interactions['x1'] - all_interactions['x2']\n",
    "MLInput['relative_Y'] = all_interactions['y1'] - all_interactions['y2']\n",
    "MLInput['relative_Vx'] = all_interactions['v_x1'] - all_interactions['v_x2']\n",
    "MLInput['relative_Vy'] = all_interactions['v_y1'] - all_interactions['v_y2']\n",
    "MLInput['brake'] = 0\n",
    "#MLInput.columns = ['frame','relative_X','relative_Y','relative_Vx','relative_Vy','brake']\n",
    "\n",
    "\n",
    "for frame in all_interactions['frame']:\n",
    "    if len(all_interactions.loc[all_interactions['frame']==frame-1]['v_x1'].values)>0: \n",
    "        v_prev = all_interactions.loc[all_interactions['frame']==frame-1]['v_x1'].values[0]\n",
    "        v = all_interactions.loc[all_interactions['frame']==frame]['v_x1'].values[0]\n",
    "        if v - v_prev < 0:\n",
    "            MLInput.loc[MLInput['frame']==frame,'brake'] = 1\n",
    "        \n",
    "MLInput.head()\n",
    "MLInput.to_csv(\"Input1\")"
   ]
  },
  {
   "cell_type": "code",
   "execution_count": 140,
   "metadata": {},
   "outputs": [
    {
     "data": {
      "text/plain": [
       "<matplotlib.axes._subplots.AxesSubplot at 0x115986d50>"
      ]
     },
     "execution_count": 140,
     "metadata": {},
     "output_type": "execute_result"
    },
    {
     "data": {
      "image/png": "[encoded data removed]",
      "text/plain": [
       "<matplotlib.figure.Figure at 0x115986890>"
      ]
     },
     "metadata": {},
     "output_type": "display_data"
    }
   ],
   "source": [
    "MLInput.brake.hist()"
   ]
  },
  {
   "cell_type": "code",
   "execution_count": 142,
   "metadata": {},
   "outputs": [
    {
     "data": {
      "text/html": [
       "<div>\n",
       "<style scoped>\n",
       "    .dataframe tbody tr th:only-of-type {\n",
       "        vertical-align: middle;\n",
       "    }\n",
       "\n",
       "    .dataframe tbody tr th {\n",
       "        vertical-align: top;\n",
       "    }\n",
       "\n",
       "    .dataframe thead th {\n",
       "        text-align: right;\n",
       "    }\n",
       "</style>\n",
       "<table border=\"1\" class=\"dataframe\">\n",
       "  <thead>\n",
       "    <tr style=\"text-align: right;\">\n",
       "      <th></th>\n",
       "      <th>frame</th>\n",
       "      <th>relative_X</th>\n",
       "      <th>relative_Y</th>\n",
       "      <th>relative_Vx</th>\n",
       "      <th>relative_Vy</th>\n",
       "      <th>brake</th>\n",
       "    </tr>\n",
       "  </thead>\n",
       "  <tbody>\n",
       "    <tr>\n",
       "      <th>0</th>\n",
       "      <td>220</td>\n",
       "      <td>2.988101</td>\n",
       "      <td>-0.024495</td>\n",
       "      <td>1.689670</td>\n",
       "      <td>2.823586</td>\n",
       "      <td>1</td>\n",
       "    </tr>\n",
       "    <tr>\n",
       "      <th>1</th>\n",
       "      <td>221</td>\n",
       "      <td>2.931778</td>\n",
       "      <td>-0.169516</td>\n",
       "      <td>2.365708</td>\n",
       "      <td>3.381757</td>\n",
       "      <td>0</td>\n",
       "    </tr>\n",
       "    <tr>\n",
       "      <th>2</th>\n",
       "      <td>222</td>\n",
       "      <td>3.010635</td>\n",
       "      <td>-0.056791</td>\n",
       "      <td>0.656532</td>\n",
       "      <td>-0.662692</td>\n",
       "      <td>1</td>\n",
       "    </tr>\n",
       "    <tr>\n",
       "      <th>3</th>\n",
       "      <td>223</td>\n",
       "      <td>2.988751</td>\n",
       "      <td>-0.111762</td>\n",
       "      <td>1.038862</td>\n",
       "      <td>0.887625</td>\n",
       "      <td>0</td>\n",
       "    </tr>\n",
       "    <tr>\n",
       "      <th>4</th>\n",
       "      <td>224</td>\n",
       "      <td>2.954122</td>\n",
       "      <td>-0.193562</td>\n",
       "      <td>-0.092613</td>\n",
       "      <td>-0.959363</td>\n",
       "      <td>1</td>\n",
       "    </tr>\n",
       "  </tbody>\n",
       "</table>\n",
       "</div>"
      ],
      "text/plain": [
       "   frame  relative_X  relative_Y  relative_Vx  relative_Vy  brake\n",
       "0    220    2.988101   -0.024495     1.689670     2.823586      1\n",
       "1    221    2.931778   -0.169516     2.365708     3.381757      0\n",
       "2    222    3.010635   -0.056791     0.656532    -0.662692      1\n",
       "3    223    2.988751   -0.111762     1.038862     0.887625      0\n",
       "4    224    2.954122   -0.193562    -0.092613    -0.959363      1"
      ]
     },
     "execution_count": 142,
     "metadata": {},
     "output_type": "execute_result"
    }
   ],
   "source": [
    "MLInput.head()"
   ]
  },
  {
   "cell_type": "code",
   "execution_count": 144,
   "metadata": {},
   "outputs": [],
   "source": [
    "## Features: Angle, derivative of angle, time to pedestrian\n",
    "delta_time=30 #seconds\n",
    "\n",
    "MLInput2 = pd.DataFrame()\n",
    "Intermediate = pd.DataFrame()\n",
    "\n",
    "Intermediate['direction']=(MLInput['relative_Vx']>=0).astype(int)+ (MLInput['relative_Vx']<0).astype(int)*(-1)\n",
    "Intermediate['X_r']=MLInput['relative_X']*Intermediate['direction'] # Check the direction though!\n",
    "Intermediate['Y_r']=MLInput['relative_Y']*Intermediate['direction']\n",
    "\n",
    "#Create the new features\n",
    "MLInput2['alpha']=np.abs(np.arctan2(Intermediate['Y_r'],Intermediate['X_r']))*180/np.pi\n",
    "MLInput2['delta_alpha']=(MLInput2['alpha'].shift(1)-MLInput2['alpha'])/delta_time\n",
    "MLInput2['tt_ped']=abs(MLInput['relative_X']/all_interactions['v_x1'])\n",
    "MLInput2['brake']=MLInput['brake']\n",
    "MLInput2=MLInput2.dropna(axis=0, how='any')\n",
    "\n",
    "#changing all the data for when the angle alpha is >90 degree\n",
    "#MLInput2['brake']=MLInput2['brake']*(MLInput2['alpha']<90).astype(int)\n",
    "MLInput2.to_csv(\"Input2\")"
   ]
  },
  {
   "cell_type": "code",
   "execution_count": 199,
   "metadata": {},
   "outputs": [
    {
     "data": {
      "text/html": [
       "<div>\n",
       "<style scoped>\n",
       "    .dataframe tbody tr th:only-of-type {\n",
       "        vertical-align: middle;\n",
       "    }\n",
       "\n",
       "    .dataframe tbody tr th {\n",
       "        vertical-align: top;\n",
       "    }\n",
       "\n",
       "    .dataframe thead th {\n",
       "        text-align: right;\n",
       "    }\n",
       "</style>\n",
       "<table border=\"1\" class=\"dataframe\">\n",
       "  <thead>\n",
       "    <tr style=\"text-align: right;\">\n",
       "      <th></th>\n",
       "      <th>alpha</th>\n",
       "      <th>delta_alpha</th>\n",
       "      <th>tt_ped</th>\n",
       "      <th>brake</th>\n",
       "    </tr>\n",
       "  </thead>\n",
       "  <tbody>\n",
       "    <tr>\n",
       "      <th>1</th>\n",
       "      <td>3.309171</td>\n",
       "      <td>-0.094650</td>\n",
       "      <td>1.041544</td>\n",
       "      <td>0</td>\n",
       "    </tr>\n",
       "    <tr>\n",
       "      <th>2</th>\n",
       "      <td>1.080667</td>\n",
       "      <td>0.074283</td>\n",
       "      <td>2.875671</td>\n",
       "      <td>1</td>\n",
       "    </tr>\n",
       "    <tr>\n",
       "      <th>3</th>\n",
       "      <td>2.141527</td>\n",
       "      <td>-0.035362</td>\n",
       "      <td>2.767060</td>\n",
       "      <td>0</td>\n",
       "    </tr>\n",
       "    <tr>\n",
       "      <th>4</th>\n",
       "      <td>176.251176</td>\n",
       "      <td>-5.803655</td>\n",
       "      <td>4.728698</td>\n",
       "      <td>1</td>\n",
       "    </tr>\n",
       "    <tr>\n",
       "      <th>5</th>\n",
       "      <td>4.370496</td>\n",
       "      <td>5.729356</td>\n",
       "      <td>1.266017</td>\n",
       "      <td>0</td>\n",
       "    </tr>\n",
       "  </tbody>\n",
       "</table>\n",
       "</div>"
      ],
      "text/plain": [
       "        alpha  delta_alpha    tt_ped  brake\n",
       "1    3.309171    -0.094650  1.041544      0\n",
       "2    1.080667     0.074283  2.875671      1\n",
       "3    2.141527    -0.035362  2.767060      0\n",
       "4  176.251176    -5.803655  4.728698      1\n",
       "5    4.370496     5.729356  1.266017      0"
      ]
     },
     "execution_count": 199,
     "metadata": {},
     "output_type": "execute_result"
    }
   ],
   "source": [
    "MLInput2.head()"
   ]
  },
  {
   "cell_type": "code",
   "execution_count": 200,
   "metadata": {},
   "outputs": [
    {
     "data": {
      "text/plain": [
       "<matplotlib.axes._subplots.AxesSubplot at 0x115100050>"
      ]
     },
     "execution_count": 200,
     "metadata": {},
     "output_type": "execute_result"
    },
    {
     "data": {
      "image/png": "[encoded data removed]",
      "text/plain": [
       "<matplotlib.figure.Figure at 0x107f81390>"
      ]
     },
     "metadata": {},
     "output_type": "display_data"
    }
   ],
   "source": [
    "MLInput.brake.hist()"
   ]
  },
  {
   "cell_type": "code",
   "execution_count": 146,
   "metadata": {},
   "outputs": [],
   "source": [
    "#The functions given below are used to generate metrics for the trained model\n",
    "\n",
    "def roc_model(y_true, y_score, n_classes):\n",
    "    \"\"\"This function plots the ROC curve using TPR and FPR for various thresholds and finally displays the\n",
    "    the Area Under the Curve (AUC)  \n",
    "    \n",
    "    Input - Array of true labels, array of probabilities for positive class, and number of classes to classify\n",
    "    Output - ROC Curve and AUC of the model\"\"\"\n",
    "    \n",
    "    fpr = dict()\n",
    "    tpr = dict()\n",
    "    roc_auc = dict()\n",
    "    for i in range(n_classes):\n",
    "        fpr[i], tpr[i], _ = metrics.roc_curve(y_true, y_score[:,i])\n",
    "        roc_auc[i] = metrics.auc(fpr[i], tpr[i])\n",
    "    print('The AUC for the car braking (positive class or class 1) is ',roc_auc[1])\n",
    "    print('\\n')\n",
    "    plt.figure()\n",
    "    lw = 2\n",
    "    plt.plot(fpr[1], tpr[1], color='darkorange', lw=lw, label='ROC curve (area = %0.2f)' % roc_auc[1])\n",
    "    plt.plot([0, 1], [0, 1], color='navy', lw=lw, linestyle='--')\n",
    "    plt.xlim([0.0, 1.0])\n",
    "    plt.ylim([0.0, 1.05])\n",
    "    plt.xlabel('False Positive Rate')\n",
    "    plt.ylabel('True Positive Rate')\n",
    "    plt.title('Receiver operating characteristic (ROC) for class 1 (Car Braking)')\n",
    "    plt.legend(loc=\"lower right\")\n",
    "    plt.show()  \n",
    "\n",
    "def conf_matrix(y_true,y_pred):\n",
    "    \"\"\"This function displays the confusion matrix of the model along with the classification report\n",
    "    with useful metrics such as recall and f-score \n",
    "    \n",
    "    Input - Array of true labels and an array of predicted labels\n",
    "    Output - Classification report with metrics and confusion matrix\"\"\"\n",
    "    \n",
    "    print(metrics.classification_report(y_true,y_pred))\n",
    "    print('\\n \\n')\n",
    "    labels = [0, 1]\n",
    "    cm = metrics.confusion_matrix(y_true,y_pred,labels)\n",
    "    print(cm)\n",
    "    fig = plt.figure()\n",
    "    ax = fig.add_subplot(111)\n",
    "    cax = ax.matshow(cm)\n",
    "    plt.title('Confusion matrix of the classifier')\n",
    "    fig.colorbar(cax)\n",
    "    ax.set_xticklabels([''] + labels)\n",
    "    ax.set_yticklabels([''] + labels)\n",
    "    plt.xlabel('Predicted')\n",
    "    plt.ylabel('True')\n",
    "    plt.show()\n",
    "    \n",
    "def feature_importance(x_train,trained_model,number_of_features):\n",
    "    \"\"\"This function plots the feature_importance that model has assigned to each independent variable in our\n",
    "    model and displays it in descending using a bar chart\n",
    "    \n",
    "    Input - Training Dataframe of features alone, the trained model itself (estimator), the number of top features\n",
    "            we want to see on the bar chart\n",
    "    Output - A bar chart with the selected number of features ranked in descending order\"\"\"\n",
    "    \n",
    "    feats = {}\n",
    "    for feature, importance in zip(x_train.columns, trained_model.best_estimator_.feature_importances_):\n",
    "        feats[feature] = importance \n",
    "    importances = pd.DataFrame.from_dict(feats, orient='index').rename(columns={0: 'Feature-importance'})\n",
    "    sorted_imp = importances.sort_values(by='Feature-importance', ascending = False)\n",
    "    sorted_imp.head(number_of_features).plot(kind='bar', rot=40, figsize = (15,5))\n",
    "    print('THE RANKING OF THE FEATURES BASED ON \\nIMPORTANCE IN PREDICTING BOOKINGS:')"
   ]
  },
  {
   "cell_type": "code",
   "execution_count": 156,
   "metadata": {},
   "outputs": [],
   "source": [
    "#This step separates the features and the target column which in our case is the booked column\n",
    "X = MLInput2.iloc[:,:-1]\n",
    "Y = MLInput2.iloc[:,-1:]"
   ]
  },
  {
   "cell_type": "code",
   "execution_count": 157,
   "metadata": {},
   "outputs": [
    {
     "name": "stdout",
     "output_type": "stream",
     "text": [
      "('Number of samples in training data:', 6400)\n",
      "('Number of samples in validation data:', 1600)\n"
     ]
    }
   ],
   "source": [
    "# Split data into training and validation set  using sklearn function\n",
    "\n",
    "x_train, x_test, y_train, y_test = train_test_split(X, Y, test_size=0.2, random_state=42)\n",
    "print ('Number of samples in training data:',len(x_train))\n",
    "print ('Number of samples in validation data:',len(x_test))"
   ]
  },
  {
   "cell_type": "code",
   "execution_count": 188,
   "metadata": {},
   "outputs": [
    {
     "data": {
      "text/plain": [
       "array([[<matplotlib.axes._subplots.AxesSubplot object at 0x1154fa910>]],\n",
       "      dtype=object)"
      ]
     },
     "execution_count": 188,
     "metadata": {},
     "output_type": "execute_result"
    },
    {
     "data": {
      "image/png": "[encoded data removed]",
      "text/plain": [
       "<matplotlib.figure.Figure at 0x1155710d0>"
      ]
     },
     "metadata": {},
     "output_type": "display_data"
    }
   ],
   "source": [
    "y_train.hist()"
   ]
  },
  {
   "cell_type": "code",
   "execution_count": 191,
   "metadata": {},
   "outputs": [
    {
     "data": {
      "text/plain": [
       "array([4330, 3247])"
      ]
     },
     "execution_count": 191,
     "metadata": {},
     "output_type": "execute_result"
    }
   ],
   "source": [
    "\"\"\"Fixing CLASS IMBALANCE (there is very less data for '1' booked label) by oversampling from the minority class,\n",
    "making the ratio 1:2 from an earlier 1:6\"\"\"\n",
    "\n",
    "sm = SMOTE(random_state=12, ratio = 0.75)\n",
    "x_train_mod, y_train_mod = sm.fit_sample(x_train, y_train)\n",
    "np.bincount(y_train_mod)"
   ]
  },
  {
   "cell_type": "code",
   "execution_count": 192,
   "metadata": {},
   "outputs": [],
   "source": [
    "\"\"\"Choosing a Weighted Random Forest (WRF) Classifier because this is a tree-based model which can handle \n",
    "non-linearity well and also cater to one of our main objectives which is to identify the featuers that impact \n",
    "the booking likelihood the most\"\"\"\n",
    "\n",
    "forest = RandomForestClassifier(class_weight = {0:1,1:1.2})\n",
    "\n",
    "#The model will be tuned on the following hyperparemeters to identify the best model\n",
    "\n",
    "param_grid = {\"n_estimators\" : [50, 60, 70],\n",
    "             \"max_depth\" : [ 6, 8, 10],\n",
    "             \"max_leaf_nodes\": [ 5, 10, 20], \n",
    "             \"min_impurity_split\": [0.1, 0.2, 0.3]}\n",
    "\n",
    "#The parameters of the estimator are optimized by cross-validated grid-search over a parameter grid\n",
    "\n",
    "random_forest = GridSearchCV(forest, param_grid=param_grid, cv=3)"
   ]
  },
  {
   "cell_type": "code",
   "execution_count": 193,
   "metadata": {},
   "outputs": [
    {
     "name": "stdout",
     "output_type": "stream",
     "text": [
      "Best parameters: {'n_estimators': 50, 'max_leaf_nodes': 20, 'max_depth': 10, 'min_impurity_split': 0.1}\n"
     ]
    }
   ],
   "source": [
    "#The model is fit on the training data and the parameters for the best estimator are printed out\n",
    "random_forest.fit(x_train_mod, y_train_mod)\n",
    "\n",
    "print(\"Best parameters: {}\".format(random_forest.best_params_))"
   ]
  },
  {
   "cell_type": "code",
   "execution_count": 194,
   "metadata": {},
   "outputs": [
    {
     "name": "stdout",
     "output_type": "stream",
     "text": [
      "('The training accuracy is: ', 0.6345519334829088, '\\n', 'The validation accuracy is: ', 0.59875)\n"
     ]
    }
   ],
   "source": [
    "#This step is to print out both the train and the validation accuracy of the model\n",
    "train_acc = random_forest.score(x_train_mod, y_train_mod)\n",
    "test_acc = random_forest.score(x_test,y_test)\n",
    "\n",
    "print(\"The training accuracy is: \", train_acc, \"\\n\", \"The validation accuracy is: \", test_acc)"
   ]
  },
  {
   "cell_type": "code",
   "execution_count": 195,
   "metadata": {},
   "outputs": [],
   "source": [
    "train_proba = random_forest.predict_proba(x_train_mod)\n",
    "train_pred = random_forest.predict(x_train_mod)\n",
    "\n",
    "test_proba = random_forest.predict_proba(x_test)\n",
    "test_pred = random_forest.predict(x_test)"
   ]
  },
  {
   "cell_type": "code",
   "execution_count": 196,
   "metadata": {},
   "outputs": [
    {
     "name": "stdout",
     "output_type": "stream",
     "text": [
      "('The AUC for the car braking (positive class or class 1) is ', 0.5255688595071888)\n",
      "\n",
      "\n"
     ]
    },
    {
     "data": {
      "image/png": "[encoded data removed]",
      "text/plain": [
       "<matplotlib.figure.Figure at 0x11579fd90>"
      ]
     },
     "metadata": {},
     "output_type": "display_data"
    }
   ],
   "source": [
    "#This step visualizes the ROC curve and displays the AUC for class 1 which is a search ending in a booking\n",
    "\n",
    "roc_model(y_test,test_proba,2)"
   ]
  },
  {
   "cell_type": "code",
   "execution_count": 197,
   "metadata": {},
   "outputs": [
    {
     "name": "stdout",
     "output_type": "stream",
     "text": [
      "             precision    recall  f1-score   support\n",
      "\n",
      "          0       0.71      0.73      0.72      1115\n",
      "          1       0.32      0.30      0.31       485\n",
      "\n",
      "avg / total       0.59      0.60      0.59      1600\n",
      "\n",
      "\n",
      " \n",
      "\n",
      "[[813 302]\n",
      " [340 145]]\n"
     ]
    },
    {
     "data": {
      "image/png": "[encoded data removed]",
      "text/plain": [
       "<matplotlib.figure.Figure at 0x115511a90>"
      ]
     },
     "metadata": {},
     "output_type": "display_data"
    }
   ],
   "source": [
    "#This part displays the classification report (recall needs to be improved) and visualizes the confusion matrix\n",
    "conf_matrix(y_test,test_pred)"
   ]
  },
  {
   "cell_type": "code",
   "execution_count": 170,
   "metadata": {},
   "outputs": [
    {
     "name": "stdout",
     "output_type": "stream",
     "text": [
      "THE RANKING OF THE FEATURES BASED ON \n",
      "IMPORTANCE IN PREDICTING BOOKINGS:\n"
     ]
    },
    {
     "data": {
      "image/png": "[encoded data removed]",
      "text/plain": [
       "<matplotlib.figure.Figure at 0x107f84e10>"
      ]
     },
     "metadata": {},
     "output_type": "display_data"
    }
   ],
   "source": [
    "#Extracting Feature Importance\n",
    "feature_importance(x_train,random_forest,5)"
   ]
  },
  {
   "cell_type": "code",
   "execution_count": null,
   "metadata": {},
   "outputs": [],
   "source": []
  }
 ],
 "metadata": {
  "kernelspec": {
   "display_name": "Python 2",
   "language": "python",
   "name": "python2"
  },
  "language_info": {
   "codemirror_mode": {
    "name": "ipython",
    "version": 2
   },
   "file_extension": ".py",
   "mimetype": "text/x-python",
   "name": "python",
   "nbconvert_exporter": "python",
   "pygments_lexer": "ipython2",
   "version": "2.7.14"
  }
 },
 "nbformat": 4,
 "nbformat_minor": 2
}
